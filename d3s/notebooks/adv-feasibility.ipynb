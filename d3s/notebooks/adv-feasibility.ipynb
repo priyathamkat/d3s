{
 "cells": [
  {
   "cell_type": "code",
   "execution_count": 1,
   "id": "0e69171b",
   "metadata": {},
   "outputs": [],
   "source": [
    "import torch\n",
    "import torchvision.datasets as D\n",
    "import torchvision.transforms as T\n",
    "from torchvision.utils import make_grid\n",
    "from torch.utils.data import DataLoader, Dataset\n",
    "import matplotlib.pyplot as plt\n",
    "import numpy as np\n",
    "import torch.nn as nn\n",
    "from tqdm import tqdm, trange\n",
    "import torch.optim as optim\n",
    "from d3s.disentangled_model import DisentangledModel\n",
    "from copy import deepcopy\n",
    "%matplotlib inline"
   ]
  },
  {
   "cell_type": "code",
   "execution_count": 2,
   "id": "105ba8f6",
   "metadata": {},
   "outputs": [],
   "source": [
    "colors = torch.rand(10, 3)\n",
    "colors = colors / torch.sum(colors, dim=1, keepdim=True)\n",
    "colors = colors.reshape(-1, 3, 1, 1)\n",
    "\n",
    "def modify_image(image, color):\n",
    "    image = T.ToTensor()(image).repeat(3, 1, 1)\n",
    "    image = image * color\n",
    "    return T.ToPILImage()(image)\n",
    "\n",
    "class ColoredMNIST(Dataset):\n",
    "    def __init__(self, train=True, transform=None, target_transform=None):\n",
    "        super().__init__()\n",
    "        \n",
    "        self.transform = transform\n",
    "        self.target_transform = target_transform\n",
    "        \n",
    "        mnist = D.MNIST(\"/cmlscratch/pkattaki/datasets/\", train=train, download=True)\n",
    "        self.targets = mnist.targets.type(torch.LongTensor)\n",
    "        self.color_labels = torch.randint(0, 10, self.targets.shape)\n",
    "        \n",
    "        \n",
    "        self.data = []\n",
    "        for i in range(len(mnist)):\n",
    "            color_label = self.color_labels[i]\n",
    "            image = mnist[i][0]\n",
    "            colored_image = modify_image(image, colors[color_label])\n",
    "            self.data.append(colored_image)\n",
    "    \n",
    "    def __getitem__(self, index):\n",
    "        image = self.data[index]\n",
    "        label = self.targets[index]\n",
    "        color_label = label\n",
    "\n",
    "        if self.transform:\n",
    "            image = self.transform(image)\n",
    "        \n",
    "        if self.target_transform:\n",
    "            label = self.target_transform(label)\n",
    "        \n",
    "        return image, label, color_label\n",
    "    \n",
    "    def __len__(self):\n",
    "        return len(self.data)"
   ]
  },
  {
   "cell_type": "code",
   "execution_count": 3,
   "id": "c82f7d0a",
   "metadata": {},
   "outputs": [
    {
     "data": {
      "text/plain": [
       "<matplotlib.image.AxesImage at 0x7f6ad4340b50>"
      ]
     },
     "execution_count": 3,
     "metadata": {},
     "output_type": "execute_result"
    },
    {
     "data": {
      "image/png": "[encoded data removed]",
      "text/plain": [
       "<Figure size 640x480 with 1 Axes>"
      ]
     },
     "metadata": {},
     "output_type": "display_data"
    }
   ],
   "source": [
    "colored_mnist = ColoredMNIST(transform=T.ToTensor())\n",
    "dataloader = DataLoader(colored_mnist, batch_size=10, shuffle=True)\n",
    "batch = next(iter(dataloader))[0]\n",
    "plt.imshow(T.ToPILImage()(make_grid(batch, nrow=5)))"
   ]
  },
  {
   "cell_type": "code",
   "execution_count": 4,
   "id": "fe1193e6",
   "metadata": {},
   "outputs": [],
   "source": [
    "class ConvNet(nn.Module):\n",
    "    def __init__(self, num_classes=10):\n",
    "        super().__init__()\n",
    "        self.conv = nn.Sequential(\n",
    "            nn.Conv2d(3, 4, 3, padding=1),\n",
    "            nn.BatchNorm2d(4),\n",
    "            nn.ReLU(),\n",
    "            nn.Conv2d(4, 8, 3, stride=2, padding=1),\n",
    "            nn.BatchNorm2d(8),\n",
    "            nn.ReLU(),\n",
    "            nn.Conv2d(8, 8, 3, padding=1),\n",
    "            nn.BatchNorm2d(8),\n",
    "            nn.ReLU(),\n",
    "            nn.Conv2d(8, 16, 3, stride=2, padding=1),\n",
    "            nn.BatchNorm2d(16),\n",
    "            nn.Flatten(),\n",
    "        )\n",
    "        self.num_features = 16 * 7 * 7\n",
    "        self.fc = nn.Linear(self.num_features, num_classes)\n",
    "        \n",
    "        \n",
    "    def forward(self, x):\n",
    "        x = self.conv(x)\n",
    "        x = self.fc(x)\n",
    "        return x"
   ]
  },
  {
   "cell_type": "code",
   "execution_count": 5,
   "id": "70b6b5da",
   "metadata": {},
   "outputs": [],
   "source": [
    "transform = T.Compose([\n",
    "    T.ToTensor(),\n",
    "    T.Normalize((0.5, 0.5, 0.5), (0.5, 0.5, 0.5)),\n",
    "])\n",
    "train_colored_mnist = ColoredMNIST(train=True, transform=transform)\n",
    "test_colored_mnist = ColoredMNIST(train=False, transform=transform)\n",
    "\n",
    "trainloader = DataLoader(train_colored_mnist, batch_size=256, shuffle=True, num_workers=4, pin_memory=True)\n",
    "testloader = DataLoader(test_colored_mnist, batch_size=256, shuffle=False, num_workers=4, pin_memory=True)"
   ]
  },
  {
   "cell_type": "code",
   "execution_count": 6,
   "id": "fa06f5c4",
   "metadata": {},
   "outputs": [],
   "source": [
    "ce_criterion = nn.CrossEntropyLoss()\n",
    "\n",
    "def train_base(model, dataloader, num_epochs=50):\n",
    "    \"\"\"Vanilla training\"\"\"\n",
    "    model.train()\n",
    "    \n",
    "    optimizer = optim.Adam(model.parameters(), lr=1e-3)\n",
    "    for _ in trange(num_epochs, desc=\"Training\"):\n",
    "        for images, labels, _ in dataloader:\n",
    "            images, labels = images.cuda(), labels.cuda()\n",
    "            optimizer.zero_grad()\n",
    "            outputs = model(images)\n",
    "            loss = ce_criterion(outputs, labels)\n",
    "            loss.backward()\n",
    "            optimizer.step()\n",
    "\n",
    "@torch.no_grad()\n",
    "def test_base(model, dataloader):\n",
    "    model.eval()\n",
    "    \n",
    "    total = 0.0\n",
    "    correct = 0.0\n",
    "    for images, labels, _ in tqdm(dataloader, desc=\"Testing\"):\n",
    "        images, labels = images.cuda(), labels.cuda()\n",
    "        outputs = model(images)\n",
    "        _, predicted = torch.max(outputs, 1)\n",
    "        total += images.shape[0]\n",
    "        correct += (predicted == labels).sum().item()\n",
    "        \n",
    "    return 100 * correct / total"
   ]
  },
  {
   "cell_type": "code",
   "execution_count": 67,
   "id": "671c59f0",
   "metadata": {},
   "outputs": [
    {
     "name": "stderr",
     "output_type": "stream",
     "text": [
      "Training: 100%|█████████████████████████████████████████████████████████████████████████| 30/30 [01:38<00:00,  3.29s/it]\n",
      "Testing: 100%|████████████████████████████████████████████████████████████████████████| 235/235 [00:03<00:00, 74.44it/s]\n"
     ]
    },
    {
     "name": "stdout",
     "output_type": "stream",
     "text": [
      "99.74\n"
     ]
    },
    {
     "name": "stderr",
     "output_type": "stream",
     "text": [
      "Testing: 100%|██████████████████████████████████████████████████████████████████████████| 40/40 [00:00<00:00, 63.04it/s]"
     ]
    },
    {
     "name": "stdout",
     "output_type": "stream",
     "text": [
      "98.68\n"
     ]
    },
    {
     "name": "stderr",
     "output_type": "stream",
     "text": [
      "\n"
     ]
    }
   ],
   "source": [
    "model = ConvNet()\n",
    "model.cuda()\n",
    "\n",
    "train_base(model, trainloader, num_epochs=30)\n",
    "print(test_base(model, trainloader))\n",
    "print(test_base(model, testloader))"
   ]
  },
  {
   "cell_type": "code",
   "execution_count": 189,
   "id": "164474f5",
   "metadata": {},
   "outputs": [],
   "source": [
    "class DisentangledFeatureModel(nn.Module):\n",
    "    def __init__(self, num_fg_features=None, num_bg_features=None, num_fg_classes=10, num_bg_classes=10):\n",
    "        super().__init__()\n",
    "        \n",
    "        self.conv = nn.Sequential(\n",
    "            nn.Conv2d(3, 4, 3, padding=1),\n",
    "            nn.BatchNorm2d(4),\n",
    "            nn.LeakyReLU(negative_slope=0.1),\n",
    "            nn.Conv2d(4, 8, 3, stride=2, padding=1),\n",
    "            nn.BatchNorm2d(8),\n",
    "            nn.LeakyReLU(negative_slope=0.1),\n",
    "            nn.Conv2d(8, 8, 3, padding=1),\n",
    "            nn.BatchNorm2d(8),\n",
    "            nn.LeakyReLU(negative_slope=0.1),\n",
    "            nn.Conv2d(8, 16, 3, stride=2, padding=1),\n",
    "            nn.BatchNorm2d(16),\n",
    "            nn.Flatten(),\n",
    "        )\n",
    "        self.num_features = 16 * 7 * 7\n",
    "        \n",
    "        assert (num_fg_features is not None) ^ (\n",
    "            num_bg_features is not None\n",
    "        ), \"Must specify exactly one of num_bg_features or num_fg_features\"\n",
    "        if num_bg_features is None:\n",
    "            num_bg_features = self.num_features - num_fg_features\n",
    "        if num_fg_features is None:\n",
    "            num_fg_features = self.num_features - num_bg_features\n",
    "\n",
    "        self.num_fg_features = num_fg_features\n",
    "        self.num_bg_features = num_bg_features\n",
    "        \n",
    "        self.fg_fc = nn.Linear(self.num_fg_features, num_fg_classes)\n",
    "        self.bg_fc = nn.Linear(self.num_bg_features, num_bg_classes)\n",
    "        \n",
    "        \n",
    "    def forward(self, x):\n",
    "        features = self.conv(x)\n",
    "        fg_features = features[:, :self.num_fg_features]\n",
    "        bg_features = features[:, -self.num_bg_features:]\n",
    "        fg_outputs = self.fg_fc(fg_features)\n",
    "        bg_outputs = self.bg_fc(bg_features)\n",
    "        \n",
    "        return fg_outputs, bg_outputs, fg_features, bg_features\n",
    "        "
   ]
  },
  {
   "cell_type": "code",
   "execution_count": null,
   "id": "71a4a7d6",
   "metadata": {},
   "outputs": [],
   "source": [
    "from d3s.mine_loss import MINELoss\n",
    "class MINETrainer:\n",
    "    def __init__(self, model, alpha=1.0, mine_ma_rate=0.1, lr=1e-3, weight_decay=1e-4, only_disentangle=True) -> None:\n",
    "        self.model = model\n",
    "        self.lr = lr\n",
    "        self.ce_criterion = nn.CrossEntropyLoss()\n",
    "        self.mine_criterions = {\n",
    "            \"fg\": MINELoss(\n",
    "                feature_dim=self.model.num_fg_features,\n",
    "                ma_rate=mine_ma_rate,\n",
    "            ).cuda(),\n",
    "            \"bg\": MINELoss(\n",
    "                feature_dim=self.model.num_bg_features,\n",
    "                ma_rate=mine_ma_rate,\n",
    "            ).cuda(),\n",
    "        }\n",
    "        self.only_disentangle = only_disentangle\n",
    "        if self.only_disentangle:\n",
    "            self.model_optimizer = optim.SGD(\n",
    "                self.model.disentangle.parameters(),\n",
    "                lr=lr,\n",
    "                weight_decay=weight_decay,\n",
    "            )\n",
    "            for name, parameter in self.model.named_parameters():\n",
    "                if \"disentangle\" not in name:\n",
    "                    parameter.requires_grad = False\n",
    "        else:\n",
    "            self.model_optimizer = optim.SGD(\n",
    "                self.model.parameters(),\n",
    "                lr=self.lr,\n",
    "                weight_decay=weight_decay,\n",
    "            )\n",
    "        self._mine_optimizers = None\n",
    "        self.scheduler = optim.lr_scheduler.ReduceLROnPlateau(\n",
    "            self.model_optimizer,\n",
    "            patience=25,\n",
    "            threshold=1e-3,\n",
    "            cooldown=100,\n",
    "            min_lr=1e-4,\n",
    "        )\n",
    "        self.alpha = alpha\n",
    "\n",
    "    @property\n",
    "    def mine_optimizers(self):\n",
    "        if self._mine_optimizers is None:\n",
    "            self._mine_optimizers = {\n",
    "                \"fg\": optim.Adam(\n",
    "                    self.mine_criterions[\"fg\"].parameters(),\n",
    "                    lr=self.lr,\n",
    "                ),\n",
    "                \"bg\": optim.Adam(\n",
    "                    self.mine_criterions[\"bg\"].parameters(),\n",
    "                    lr=self.lr,\n",
    "                ),\n",
    "            }\n",
    "        return self._mine_optimizers\n",
    "\n",
    "    def reset_mine_optimizers(self):\n",
    "        self._mine_optimizers = None\n",
    "\n",
    "    def train(self, batch, optimize_mine):\n",
    "        if self.only_disentangle:\n",
    "            self.model.eval()\n",
    "        else:\n",
    "            self.model.train()\n",
    "            \n",
    "        images, digit_labels, color_labels = batch\n",
    "        images, digit_labels, color_labels = images.cuda(), digit_labels.cuda(), color_labels.cuda()\n",
    "        outputs, fg_features, bg_features = self.model(images)\n",
    "\n",
    "        if optimize_mine:\n",
    "            self.mine_optimizers[\"fg\"].zero_grad()\n",
    "            loss = self.mine_criterions[\"fg\"](\n",
    "                fg_features, color_labels, optimize_T=True\n",
    "            )\n",
    "            loss.backward(retain_graph=True)\n",
    "            self.mine_optimizers[\"fg\"].step()\n",
    "\n",
    "            self.mine_optimizers[\"bg\"].zero_grad()\n",
    "            loss = self.mine_criterions[\"bg\"](\n",
    "                bg_features, digit_labels, optimize_T=True\n",
    "            )\n",
    "            loss.backward()\n",
    "            self.mine_optimizers[\"bg\"].step()\n",
    "            \n",
    "        else:\n",
    "            self.model_optimizer.zero_grad()\n",
    "            self.reset_mine_optimizers()\n",
    "\n",
    "            fg_mine_loss = self.mine_criterions[\"fg\"](\n",
    "                fg_features, color_labels, optimize_T=False\n",
    "            )\n",
    "            bg_mine_loss = self.mine_criterions[\"bg\"](\n",
    "                bg_features, digit_labels, optimize_T=False\n",
    "            )\n",
    "            mine_loss = -(fg_mine_loss + bg_mine_loss)\n",
    "\n",
    "            if not self.only_disentangle:\n",
    "                ce_loss = self.ce_criterion(outputs, digit_labels)\n",
    "                total_loss = mine_loss + self.alpha * ce_loss\n",
    "            else:\n",
    "                total_loss = mine_loss\n",
    "\n",
    "            total_loss.backward()\n",
    "            self.model_optimizer.step()\n",
    "            self.scheduler.step(total_loss)\n",
    "\n",
    "            if self.only_disentangle:\n",
    "                return total_loss.item()\n",
    "            else:\n",
    "                return total_loss.item(), ce_loss.item(), mine_loss.item()"
   ]
  },
  {
   "cell_type": "code",
   "execution_count": null,
   "id": "bb8cfb90",
   "metadata": {},
   "outputs": [],
   "source": [
    "num_epochs = 30\n",
    "only_disentangle = False\n",
    "disentangled_model = DisentangledModel(deepcopy(model), num_fg_features=model.num_features // 2).cuda()\n",
    "mine_trainer = MINETrainer(disentangled_model, only_disentangle=only_disentangle)\n",
    "switch_every = 1\n",
    "optimize_mine = True\n",
    "step = 0\n",
    "ce_losses = []\n",
    "mine_losses = []\n",
    "total_losses = []\n",
    "for _ in trange(num_epochs):\n",
    "    for batch in trainloader:\n",
    "        step_losses = mine_trainer.train(batch, optimize_mine=optimize_mine)\n",
    "        if not optimize_mine:\n",
    "            if only_disentangle:\n",
    "                total_losses.append(step_losses)\n",
    "            else:\n",
    "                total_losses.append(step_losses[0])\n",
    "                ce_losses.append(step_losses[1])\n",
    "                mine_losses.append(step_losses[2])\n",
    "        if step % switch_every == 0:\n",
    "            optimize_mine = not optimize_mine\n",
    "        step += 1\n",
    "plt.plot(np.array(total_losses), label=\"Total loss\")\n",
    "if not only_disentangle:\n",
    "    plt.plot(np.array(ce_losses), label=\"CE loss\")\n",
    "    plt.plot(np.array(mine_losses), label=\"MINE loss\")\n",
    "plt.legend()"
   ]
  },
  {
   "cell_type": "code",
   "execution_count": 138,
   "id": "812df513",
   "metadata": {},
   "outputs": [],
   "source": [
    "@torch.no_grad()\n",
    "def test_disentangled(model, dataloader):\n",
    "    model.eval()\n",
    "    fg_fg_top1 = bg_bg_top1 = fg_bg_top1 = bg_fg_top1 = total = 0\n",
    "    for batch in tqdm(dataloader, desc=\"Testing\"):\n",
    "        images, digit_labels, color_labels = batch\n",
    "        images, digit_labels, color_labels = images.cuda(), digit_labels.cuda(), color_labels.cuda()\n",
    "        fg_fg_outputs, bg_bg_outputs, fg_bg_outputs, bg_fg_outputs = model(images)\n",
    "        fg_fg_top1 += (fg_fg_outputs.argmax(dim=1) == digit_labels).sum().item()\n",
    "        bg_bg_top1 += (bg_bg_outputs.argmax(dim=1) == color_labels).sum().item()\n",
    "        fg_bg_top1 += (fg_bg_outputs.argmax(dim=1) == digit_labels).sum().item()\n",
    "        bg_fg_top1 += (bg_fg_outputs.argmax(dim=1) == color_labels).sum().item()\n",
    "        total += digit_labels.shape[0]\n",
    "    \n",
    "    fg_fg_top1 = 100 * fg_fg_top1 / total\n",
    "    bg_bg_top1 = 100 * bg_bg_top1 / total\n",
    "    fg_bg_top1 = 100 * fg_bg_top1 / total\n",
    "    bg_fg_top1 = 100 * bg_fg_top1 / total\n",
    "    return fg_fg_top1, bg_bg_top1, fg_bg_top1, bg_fg_top1"
   ]
  },
  {
   "cell_type": "code",
   "execution_count": null,
   "id": "f92cb2a8",
   "metadata": {},
   "outputs": [],
   "source": [
    "outputs_top1, _, _ = test_disentangled(disentangled_model, testloader)\n",
    "print(f\"Full Model Accuracy: {outputs_top1}\")"
   ]
  },
  {
   "cell_type": "code",
   "execution_count": 162,
   "id": "9a3bb318",
   "metadata": {},
   "outputs": [],
   "source": [
    "class DisentanglementTestingModel(nn.Module):\n",
    "    def __init__(self, model, fg_classes=1000, bg_classes=10):\n",
    "        super().__init__()\n",
    "        self.model = model\n",
    "        self.model.eval()\n",
    "        for param in self.model.parameters():\n",
    "            param.requires_grad_(False)\n",
    "        self.fg_head = nn.Linear(self.model.num_bg_features, fg_classes)\n",
    "        self.bg_head = nn.Linear(self.model.num_fg_features, bg_classes)\n",
    "        self.heads = nn.ModuleList([self.fg_head, self.bg_head])\n",
    "\n",
    "    def forward(self, x):\n",
    "        with torch.no_grad():\n",
    "            fg_outputs, bg_outputs, fg_features, bg_features = self.model(x)\n",
    "        fg_logits = self.fg_head(bg_features)\n",
    "        bg_logits = self.bg_head(fg_features)\n",
    "        return fg_outputs, bg_outputs, fg_logits, bg_logits"
   ]
  },
  {
   "cell_type": "code",
   "execution_count": 164,
   "id": "ae4e263e",
   "metadata": {},
   "outputs": [],
   "source": [
    "class DisentanglementTester:\n",
    "    def __init__(self, model, lr=1e-3, momentum=0.9, weight_decay=1e-4) -> None:\n",
    "        self.model = model\n",
    "        self.ce_criterion = nn.CrossEntropyLoss()\n",
    "\n",
    "        self.optimizer = optim.SGD(\n",
    "            self.model.heads.parameters(),\n",
    "            lr=lr,\n",
    "            momentum=momentum,\n",
    "            weight_decay=weight_decay,\n",
    "        )\n",
    "\n",
    "    def train(self, batch):\n",
    "        self.optimizer.zero_grad()\n",
    "        images, digit_labels, color_labels = batch\n",
    "        images, digit_labels, color_labels = images.cuda(), digit_labels.cuda(), color_labels.cuda()\n",
    "        _, _, fg_logits, bg_logits = self.model(images)\n",
    "        fg_loss = self.ce_criterion(fg_logits, digit_labels)\n",
    "        bg_loss = self.ce_criterion(bg_logits, color_labels)\n",
    "        total_loss = fg_loss + bg_loss\n",
    "        total_loss.backward()\n",
    "        self.optimizer.step()\n",
    "        return total_loss.item(), fg_loss.item(), bg_loss.item()"
   ]
  },
  {
   "cell_type": "code",
   "execution_count": null,
   "id": "902732f4",
   "metadata": {},
   "outputs": [],
   "source": [
    "disentanglement_testing_model = DisentanglementTestingModel(deepcopy(disentangled_model), fg_classes=10, bg_classes=10)\n",
    "disentanglement_testing_model.cuda()"
   ]
  },
  {
   "cell_type": "code",
   "execution_count": null,
   "id": "40eb20b8",
   "metadata": {},
   "outputs": [],
   "source": [
    "num_epochs = 30\n",
    "disentanglement_tester = DisentanglementTester(disentanglement_testing_model)\n",
    "step = 0\n",
    "fg_losses = []\n",
    "bg_losses = []\n",
    "total_losses = []\n",
    "for _ in trange(num_epochs):\n",
    "    for batch in trainloader:\n",
    "        total_loss, fg_loss, bg_loss = disentanglement_tester.train(batch)\n",
    "        \n",
    "        total_losses.append(total_loss)\n",
    "        fg_losses.append(fg_loss)\n",
    "        bg_losses.append(bg_loss)\n",
    "        \n",
    "plt.plot(np.array(total_losses), label=\"Total loss\")\n",
    "plt.plot(np.array(bg_losses), label=\"FG loss\")\n",
    "plt.plot(np.array(fg_losses), label=\"BG loss\")\n",
    "plt.legend()"
   ]
  },
  {
   "cell_type": "code",
   "execution_count": null,
   "id": "aeebd75a",
   "metadata": {},
   "outputs": [],
   "source": [
    "outputs_top1, fg_top1, bg_top1 = test_disentangled(disentanglement_testing_model, testloader)\n",
    "print(f\"Full Model Accuracy: {outputs_top1}, FG from BG: {fg_top1}, BG from FG: {bg_top1}\")"
   ]
  },
  {
   "cell_type": "code",
   "execution_count": null,
   "id": "ea739f5c",
   "metadata": {},
   "outputs": [],
   "source": [
    "class AdvTrainer(nn.Module):\n",
    "    def __init__(self, model, alpha=1.0, fg_classes=1000, bg_classes=10, mine_ma_rate=0.1, lr=1e-3, weight_decay=1e-4) -> None:\n",
    "        super().__init__()\n",
    "        self.model = model\n",
    "        self.lr = lr\n",
    "        self.ce_criterion = nn.CrossEntropyLoss()\n",
    "        self.fg_head = nn.Linear(self.model.num_bg_features, fg_classes)\n",
    "        self.bg_head = nn.Linear(self.model.num_fg_features, bg_classes)\n",
    "        self.heads = nn.ModuleList([self.fg_head, self.bg_head])\n",
    "        self._head_optimizers = None\n",
    "        self.model_optimizer = optim.SGD(\n",
    "            self.model.parameters(),\n",
    "            lr=self.lr,\n",
    "            weight_decay=weight_decay,\n",
    "        )\n",
    "        self.alpha = alpha\n",
    "\n",
    "    @property\n",
    "    def head_optimizers(self):\n",
    "        if self._head_optimizers is None:\n",
    "            self._head_optimizers = {\n",
    "                \"fg\": optim.SGD(\n",
    "                    self.fg_head.parameters(),\n",
    "                    lr=self.lr,\n",
    "                ),\n",
    "                \"bg\": optim.SGD(\n",
    "                    self.bg_head.parameters(),\n",
    "                    lr=self.lr,\n",
    "                ),\n",
    "            }\n",
    "        return self._head_optimizers\n",
    "\n",
    "    def train(self, batch):\n",
    "        self.model.train()\n",
    "            \n",
    "        images, digit_labels, color_labels = batch\n",
    "        images, digit_labels, color_labels = images.cuda(), digit_labels.cuda(), color_labels.cuda()\n",
    "        outputs, fg_features, bg_features = self.model(images)\n",
    "\n",
    "        \n",
    "        self.head_optimizers[\"fg\"].zero_grad()\n",
    "        self.head_optimizers[\"bg\"].zero_grad()\n",
    "        \n",
    "        fg_loss = self.ce_criterion(self.fg_head(bg_features), digit_labels)\n",
    "        fg_loss.backward(retain_graph=True)\n",
    "        self.head_optimizers[\"fg\"].step()\n",
    "        \n",
    "        bg_loss = self.ce_criterion(self.bg_head(fg_features), color_labels)\n",
    "        bg_loss.backward()\n",
    "        self.head_optimizers[\"bg\"].step()\n",
    "        \n",
    "        self.model_optimizer.zero_grad()\n",
    "        \n",
    "        outputs, fg_features, bg_features = self.model(images)\n",
    "        \n",
    "        fg_loss = self.ce_criterion(self.fg_head(bg_features), digit_labels)\n",
    "        bg_loss = self.ce_criterion(self.bg_head(fg_features), color_labels)\n",
    "        output_loss = self.ce_criterion(outputs, digit_labels)\n",
    "        \n",
    "        total_loss = self.alpha * output_loss - fg_loss - bg_loss\n",
    "        total_loss.backward()\n",
    "        \n",
    "        self.model_optimizer.step()\n",
    "\n",
    "        return total_loss.item(), output_loss.item(), fg_loss.item(), bg_loss.item()"
   ]
  },
  {
   "cell_type": "code",
   "execution_count": null,
   "id": "425a18e4",
   "metadata": {},
   "outputs": [],
   "source": [
    "num_epochs = 30\n",
    "disentangled_model = DisentangledModel(deepcopy(model), num_fg_features=model.num_features // 2).cuda()\n",
    "adv_trainer = AdvTrainer(disentangled_model, fg_classes=10, bg_classes=10).cuda()\n",
    "total_losses = []\n",
    "output_losses = []\n",
    "fg_losses = []\n",
    "bg_losses = []\n",
    "for _ in trange(num_epochs):\n",
    "    for batch in trainloader:\n",
    "        total_loss, output_loss, fg_loss, bg_loss = adv_trainer.train(batch)\n",
    "        total_losses.append(total_loss)\n",
    "        output_losses.append(output_loss)\n",
    "        fg_losses.append(fg_loss)\n",
    "        bg_losses.append(bg_loss)\n",
    "        \n",
    "plt.plot(np.array(total_losses), label=\"Total loss\")\n",
    "plt.plot(np.array(output_losses), label=\"Output loss\")\n",
    "plt.plot(np.array(fg_losses), label=\"FG loss\")\n",
    "plt.plot(np.array(bg_losses), label=\"BG loss\")\n",
    "plt.legend()"
   ]
  },
  {
   "cell_type": "code",
   "execution_count": null,
   "id": "95b40cdb",
   "metadata": {},
   "outputs": [],
   "source": [
    "outputs_top1, _, _ = test_disentangled(disentangled_model, testloader)\n",
    "print(f\"Full Model Accuracy: {outputs_top1}\")"
   ]
  },
  {
   "cell_type": "code",
   "execution_count": null,
   "id": "0d08622f",
   "metadata": {},
   "outputs": [],
   "source": [
    "num_epochs = 30\n",
    "disentanglement_testing_model = DisentanglementTestingModel(deepcopy(disentangled_model), fg_classes=10, bg_classes=10)\n",
    "disentanglement_testing_model.cuda()\n",
    "disentanglement_tester = DisentanglementTester(disentanglement_testing_model)\n",
    "step = 0\n",
    "fg_losses = []\n",
    "bg_losses = []\n",
    "total_losses = []\n",
    "for _ in trange(num_epochs):\n",
    "    for batch in trainloader:\n",
    "        total_loss, fg_loss, bg_loss = disentanglement_tester.train(batch)\n",
    "        \n",
    "        total_losses.append(total_loss)\n",
    "        fg_losses.append(fg_loss)\n",
    "        bg_losses.append(bg_loss)\n",
    "        \n",
    "plt.plot(np.array(total_losses), label=\"Total loss\")\n",
    "plt.plot(np.array(bg_losses), label=\"FG loss\")\n",
    "plt.plot(np.array(fg_losses), label=\"BG loss\")\n",
    "plt.legend()"
   ]
  },
  {
   "cell_type": "code",
   "execution_count": null,
   "id": "47f1554d",
   "metadata": {},
   "outputs": [],
   "source": [
    "outputs_top1, fg_top1, bg_top1 = test_disentangled(disentanglement_testing_model, testloader)\n",
    "print(f\"Full Model Accuracy: {outputs_top1}, FG from BG: {fg_top1}, BG from FG: {bg_top1}\")"
   ]
  },
  {
   "cell_type": "code",
   "execution_count": 214,
   "id": "3f72ecea",
   "metadata": {},
   "outputs": [],
   "source": [
    "def create_mlp_discriminator(feature_dim):\n",
    "    layers = []\n",
    "    while feature_dim != 1:\n",
    "        layers.extend([nn.Linear(feature_dim, feature_dim // 2), nn.LeakyReLU(negative_slope=0.1)])\n",
    "        feature_dim //= 2\n",
    "    return nn.Sequential(*layers[:-1])\n",
    "\n",
    "class WassersteinTrainer(nn.Module):\n",
    "    def __init__(self, model, alpha=1.0, fg_classes=1000, bg_classes=10, lr=1e-4, lamb=10, weight_decay=1e-4, label_vector_dim=50) -> None:\n",
    "        super().__init__()\n",
    "        self.model = model\n",
    "        self.lr = lr\n",
    "        self.ce_criterion = nn.CrossEntropyLoss()\n",
    "        self.fg_discriminator = create_mlp_discriminator(self.model.num_fg_features + label_vector_dim)\n",
    "        self.bg_discriminator = create_mlp_discriminator(self.model.num_bg_features + label_vector_dim)\n",
    "        \n",
    "        self.register_buffer(\"fg_label_matrix\", torch.randn(fg_classes, label_vector_dim))\n",
    "        self.register_buffer(\"bg_label_matrix\", torch.randn(bg_classes, label_vector_dim))\n",
    "        \n",
    "        self._discriminator_optimizers = None\n",
    "        self.model_optimizer = optim.Adam(\n",
    "            self.model.parameters(),\n",
    "            lr=self.lr,\n",
    "            betas=(0, 0.9),\n",
    "        )\n",
    "        self.alpha = alpha\n",
    "        self.lamb = lamb\n",
    "        self.count = 0\n",
    "        self.train_discriminators = True\n",
    "        self.model_scheduler = optim.lr_scheduler.CosineAnnealingLR(self.model_optimizer, 100, eta_min=5e-4)\n",
    "        self.discriminator_schedulers = [optim.lr_scheduler.CosineAnnealingLR(optimizer, 100, eta_min=5e-4) for optimizer in list(self.discriminator_optimizers.values())] \n",
    "\n",
    "    @property\n",
    "    def discriminator_optimizers(self):\n",
    "        if self._discriminator_optimizers is None:\n",
    "            self._discriminator_optimizers = {\n",
    "                \"fg\": optim.Adam(\n",
    "                    self.fg_discriminator.parameters(),\n",
    "                    lr=self.lr,\n",
    "                    betas=(0, 0.9),\n",
    "                ),\n",
    "                \"bg\": optim.Adam(\n",
    "                    self.bg_discriminator.parameters(),\n",
    "                    lr=self.lr,\n",
    "                    betas=(0, 0.9)\n",
    "                ),\n",
    "            }\n",
    "        return self._discriminator_optimizers\n",
    "    \n",
    "    def cat_features_labels(self, features, label_vectors):\n",
    "        return torch.cat((features, label_vectors), dim=1)\n",
    "    \n",
    "    def compute_discriminator(self, features, labels, discriminator, label_matrix):\n",
    "        label_vectors = label_matrix[labels]\n",
    "        x_f_l = self.cat_features_labels(features, label_vectors)\n",
    "        return discriminator(x_f_l)\n",
    "    \n",
    "    def shuffle(self, x):\n",
    "        return x[torch.randperm(x.shape[0])]\n",
    "    \n",
    "    def compute_discriminator_loss(self, features, labels, discriminator, label_matrix):\n",
    "        label_vectors = label_matrix[labels]\n",
    "        x_f_l = self.cat_features_labels(features, label_vectors)\n",
    "        d_f_l = discriminator(x_f_l)\n",
    "        shuffled_label_vectors = self.shuffle(label_vectors)\n",
    "        x_f_shuffled_l = self.cat_features_labels(features, shuffled_label_vectors)\n",
    "        d_f_shuffled_l = discriminator(x_f_shuffled_l)\n",
    "        epsilons = torch.rand_like(x_f_l)\n",
    "        x_f_interpolated_l = epsilons * x_f_l + (1 - epsilons) * x_f_shuffled_l\n",
    "        d_f_interpolated_l = discriminator(x_f_interpolated_l)\n",
    "        gradient = torch.autograd.grad(\n",
    "                d_f_interpolated_l,\n",
    "                x_f_interpolated_l,\n",
    "                grad_outputs=torch.ones_like(d_f_interpolated_l),\n",
    "                create_graph=True,\n",
    "                retain_graph=True,\n",
    "            )[0]\n",
    "        gradient_penalty = (gradient.norm(2, dim=1) - 1) ** 2\n",
    "        return (d_f_l - d_f_shuffled_l + self.lamb * gradient_penalty).mean()\n",
    "\n",
    "    def train(self, batch):\n",
    "        self.model.train()\n",
    "        \n",
    "        images, digit_labels, color_labels = batch\n",
    "        images, digit_labels, color_labels = images.cuda(), digit_labels.cuda(), color_labels.cuda()\n",
    "        self.count += 1\n",
    "        \n",
    "        if self.train_discriminators:\n",
    "            _, _, fg_features, bg_features = self.model(images)\n",
    "            self.discriminator_optimizers[\"fg\"].zero_grad()\n",
    "            fg_discriminator_loss = self.compute_discriminator_loss(\n",
    "                fg_features,\n",
    "                color_labels,\n",
    "                self.fg_discriminator,\n",
    "                self.fg_label_matrix,\n",
    "            )\n",
    "            fg_discriminator_loss.backward(retain_graph=True)\n",
    "            self.discriminator_optimizers[\"fg\"].step()\n",
    "            \n",
    "            \n",
    "            self.discriminator_optimizers[\"bg\"].zero_grad()\n",
    "            bg_discriminator_loss = self.compute_discriminator_loss(\n",
    "                bg_features,\n",
    "                digit_labels,\n",
    "                self.bg_discriminator,\n",
    "                self.bg_label_matrix,\n",
    "            )\n",
    "            bg_discriminator_loss.backward()\n",
    "            self.discriminator_optimizers[\"bg\"].step()\n",
    "            \n",
    "            for scheduler in self.discriminator_schedulers:\n",
    "                scheduler.step()\n",
    "            \n",
    "#             if fg_discriminator_loss + bg_discriminator_loss < 1e-4 or self.count >= 10:\n",
    "#                 self.train_discriminators = False\n",
    "#                 self.count = 0\n",
    "            if self.count >= 5:\n",
    "                self.train_discriminators = False\n",
    "                self.count = 0\n",
    "                        \n",
    "            return fg_discriminator_loss.item(), bg_discriminator_loss.item()\n",
    "        else:\n",
    "            fg_outputs, bg_outputs, fg_features, bg_features = self.model(images)\n",
    "            self.model_optimizer.zero_grad()\n",
    "            \n",
    "            d_fg_bg = self.compute_discriminator(fg_features, color_labels, self.fg_discriminator, self.fg_label_matrix)\n",
    "            d_fg_shuffled_bg = self.compute_discriminator(fg_features, self.shuffle(color_labels), self.fg_discriminator, self.fg_label_matrix)\n",
    "            \n",
    "            fg_loss = (d_fg_shuffled_bg - d_fg_bg).mean()\n",
    "            fg_loss.backward(retain_graph=True)\n",
    "            \n",
    "            d_bg_fg = self.compute_discriminator(bg_features, digit_labels, self.bg_discriminator, self.bg_label_matrix)\n",
    "            d_bg_shuffled_fg = self.compute_discriminator(bg_features, self.shuffle(digit_labels), self.bg_discriminator, self.bg_label_matrix)\n",
    "            \n",
    "            bg_loss = (d_bg_shuffled_fg - d_bg_fg).mean()\n",
    "            bg_loss.backward(retain_graph=True)\n",
    "            \n",
    "            ce_loss = self.alpha * (self.ce_criterion(fg_outputs, digit_labels) + self.ce_criterion(bg_outputs, color_labels))\n",
    "            ce_loss.backward()\n",
    "            \n",
    "            self.model_optimizer.step()\n",
    "            self.model_scheduler.step()\n",
    "            \n",
    "#             if fg_loss + bg_loss < 1e-4 or self.count >= 10:\n",
    "#                 self.train_discriminators = True\n",
    "#                 self.count = 0\n",
    "            self.train_discriminators = True\n",
    "            \n",
    "            return fg_loss.item(), bg_loss.item(), ce_loss.item()"
   ]
  },
  {
   "cell_type": "code",
   "execution_count": 252,
   "id": "db9d9be3",
   "metadata": {},
   "outputs": [
    {
     "name": "stderr",
     "output_type": "stream",
     "text": [
      "100%|███████████████████████████████████████████████████████████████████████████████████| 50/50 [04:15<00:00,  5.10s/it]\n"
     ]
    }
   ],
   "source": [
    "num_epochs = 50\n",
    "alpha = 1.0\n",
    "# disentangled_model = DisentangledFeatureModel(num_fg_features=16 * 7 * 7 - 50).cuda()\n",
    "wasserstein_trainer = WassersteinTrainer(deepcopy(base_disentangled_model), alpha=alpha, lr=5e-3, fg_classes=10, bg_classes=10).cuda()\n",
    "step = 1\n",
    "fg_losses = []\n",
    "bg_losses = []\n",
    "ce_losses = []\n",
    "fg_discriminator_losses = []\n",
    "bg_discriminator_losses = []\n",
    "for _ in trange(num_epochs):\n",
    "    for batch in trainloader:\n",
    "        losses = wasserstein_trainer.train(batch)\n",
    "        if len(losses) == 2:\n",
    "            fg_discriminator_losses.append(losses[0])\n",
    "            bg_discriminator_losses.append(losses[1])\n",
    "        else:\n",
    "            fg_losses.append(losses[0])\n",
    "            bg_losses.append(losses[1])\n",
    "            ce_losses.append(losses[2])           \n",
    "        step += 1"
   ]
  },
  {
   "cell_type": "code",
   "execution_count": 253,
   "id": "2c6cab84",
   "metadata": {},
   "outputs": [
    {
     "data": {
      "text/plain": [
       "<matplotlib.legend.Legend at 0x7f6ac1e14fd0>"
      ]
     },
     "execution_count": 253,
     "metadata": {},
     "output_type": "execute_result"
    },
    {
     "data": {
      "image/png": "[encoded data removed]",
      "text/plain": [
       "<Figure size 640x480 with 2 Axes>"
      ]
     },
     "metadata": {},
     "output_type": "display_data"
    }
   ],
   "source": [
    "_, ax = plt.subplots(1, 2)\n",
    "ax[0].plot(np.array(fg_losses), label=\"FG Loss\")\n",
    "ax[0].plot(np.array(bg_losses), label=\"BG Loss\")\n",
    "ax[0].plot(np.array(ce_losses), label=\"CE Loss\")\n",
    "ax[0].set_ylim([-1, 1])\n",
    "ax[0].legend()\n",
    "ax[1].plot(np.array(fg_discriminator_losses), label=\"FG Discriminator Loss\")\n",
    "ax[1].plot(np.array(bg_discriminator_losses), label=\"BG Discriminator Loss\")\n",
    "ax[1].set_ylim([-1e-1, 1e-1])\n",
    "ax[1].legend()"
   ]
  },
  {
   "cell_type": "code",
   "execution_count": 254,
   "id": "830f4e3a",
   "metadata": {},
   "outputs": [
    {
     "name": "stderr",
     "output_type": "stream",
     "text": [
      "Testing: 100%|██████████████████████████████████████████████████████████████████████████| 40/40 [00:00<00:00, 56.47it/s]"
     ]
    },
    {
     "name": "stdout",
     "output_type": "stream",
     "text": [
      "FG from FG: 98.22, BG from BG: 97.42\n"
     ]
    },
    {
     "name": "stderr",
     "output_type": "stream",
     "text": [
      "\n"
     ]
    }
   ],
   "source": [
    "fg_fg_top1, bg_bg_top1, _, _ = test_disentangled(base_disentangled_model, testloader)\n",
    "print(f\"FG from FG: {fg_fg_top1}, BG from BG: {bg_bg_top1}\")"
   ]
  },
  {
   "cell_type": "code",
   "execution_count": 255,
   "id": "ebd348cd",
   "metadata": {},
   "outputs": [
    {
     "name": "stderr",
     "output_type": "stream",
     "text": [
      "100%|███████████████████████████████████████████████████████████████████████████████████| 30/30 [01:37<00:00,  3.23s/it]\n"
     ]
    },
    {
     "data": {
      "text/plain": [
       "<matplotlib.legend.Legend at 0x7f6a93656fd0>"
      ]
     },
     "execution_count": 255,
     "metadata": {},
     "output_type": "execute_result"
    },
    {
     "data": {
      "image/png": "[encoded data removed]",
      "text/plain": [
       "<Figure size 640x480 with 1 Axes>"
      ]
     },
     "metadata": {},
     "output_type": "display_data"
    }
   ],
   "source": [
    "num_epochs = 30\n",
    "disentanglement_testing_model = DisentanglementTestingModel(deepcopy(disentangled_model), fg_classes=10, bg_classes=10)\n",
    "disentanglement_testing_model.cuda()\n",
    "disentanglement_tester = DisentanglementTester(disentanglement_testing_model)\n",
    "step = 0\n",
    "fg_losses = []\n",
    "bg_losses = []\n",
    "total_losses = []\n",
    "for _ in trange(num_epochs):\n",
    "    for batch in trainloader:\n",
    "        total_loss, fg_loss, bg_loss = disentanglement_tester.train(batch)\n",
    "        \n",
    "        total_losses.append(total_loss)\n",
    "        fg_losses.append(fg_loss)\n",
    "        bg_losses.append(bg_loss)\n",
    "        \n",
    "plt.plot(np.array(total_losses), label=\"Total loss\")\n",
    "plt.plot(np.array(bg_losses), label=\"FG loss\")\n",
    "plt.plot(np.array(fg_losses), label=\"BG loss\")\n",
    "plt.legend()"
   ]
  },
  {
   "cell_type": "code",
   "execution_count": 256,
   "id": "65863de0",
   "metadata": {},
   "outputs": [
    {
     "name": "stderr",
     "output_type": "stream",
     "text": [
      "Testing: 100%|██████████████████████████████████████████████████████████████████████████| 40/40 [00:00<00:00, 58.60it/s]"
     ]
    },
    {
     "name": "stdout",
     "output_type": "stream",
     "text": [
      "FG from FG: 98.62, BG from BG: 97.36, FG from BG: 21.44, BG from FG: 11.35\n"
     ]
    },
    {
     "name": "stderr",
     "output_type": "stream",
     "text": [
      "\n"
     ]
    }
   ],
   "source": [
    "fg_fg_top1, bg_bg_top1, fg_bg_top1, bg_fg_top1 = test_disentangled(disentanglement_testing_model, testloader)\n",
    "print(f\"FG from FG: {fg_fg_top1}, BG from BG: {bg_bg_top1}, FG from BG: {fg_bg_top1}, BG from FG: {bg_fg_top1}\")"
   ]
  },
  {
   "cell_type": "code",
   "execution_count": 230,
   "id": "941b3fd1",
   "metadata": {},
   "outputs": [],
   "source": [
    "torch.save({\"model\": disentangled_model.state_dict()}, \"colored_mnist_disentangled_model.pt\")"
   ]
  },
  {
   "cell_type": "code",
   "execution_count": 233,
   "id": "ad0f8a5f",
   "metadata": {},
   "outputs": [],
   "source": [
    "def train_disentangled(model, dataloader, num_epochs=50):\n",
    "    model.train()\n",
    "    \n",
    "    optimizer = optim.Adam(model.parameters(), lr=1e-3)\n",
    "    for _ in trange(num_epochs, desc=\"Training\"):\n",
    "        for images, digit_labels, color_labels in dataloader:\n",
    "            images, digit_labels, color_labels = images.cuda(), digit_labels.cuda(), color_labels.cuda()\n",
    "            optimizer.zero_grad()\n",
    "            fg_outputs, bg_outputs, _, _ = model(images)\n",
    "            loss = ce_criterion(fg_outputs, digit_labels) + ce_criterion(bg_outputs, color_labels)\n",
    "            loss.backward()\n",
    "            optimizer.step()"
   ]
  },
  {
   "cell_type": "code",
   "execution_count": 241,
   "id": "9cd9b196",
   "metadata": {},
   "outputs": [
    {
     "name": "stderr",
     "output_type": "stream",
     "text": [
      "Training: 100%|█████████████████████████████████████████████████████████████████████████| 50/50 [02:53<00:00,  3.47s/it]\n"
     ]
    }
   ],
   "source": [
    "num_epochs = 50\n",
    "base_disentangled_model = DisentangledFeatureModel(num_fg_features=16 * 7 * 7 - 50).cuda()\n",
    "wasserstein_trainer = train_disentangled(base_disentangled_model, trainloader)"
   ]
  },
  {
   "cell_type": "code",
   "execution_count": 257,
   "id": "c26c3c71",
   "metadata": {},
   "outputs": [
    {
     "name": "stderr",
     "output_type": "stream",
     "text": [
      "100%|███████████████████████████████████████████████████████████████████████████████████| 30/30 [01:39<00:00,  3.33s/it]\n"
     ]
    },
    {
     "data": {
      "text/plain": [
       "<matplotlib.legend.Legend at 0x7f6a9371cee0>"
      ]
     },
     "execution_count": 257,
     "metadata": {},
     "output_type": "execute_result"
    },
    {
     "data": {
      "image/png": "[encoded data removed]",
      "text/plain": [
       "<Figure size 640x480 with 1 Axes>"
      ]
     },
     "metadata": {},
     "output_type": "display_data"
    }
   ],
   "source": [
    "num_epochs = 30\n",
    "disentanglement_testing_model = DisentanglementTestingModel(deepcopy(base_disentangled_model), fg_classes=10, bg_classes=10)\n",
    "disentanglement_testing_model.cuda()\n",
    "disentanglement_tester = DisentanglementTester(disentanglement_testing_model)\n",
    "step = 0\n",
    "fg_losses = []\n",
    "bg_losses = []\n",
    "total_losses = []\n",
    "for _ in trange(num_epochs):\n",
    "    for batch in trainloader:\n",
    "        total_loss, fg_loss, bg_loss = disentanglement_tester.train(batch)\n",
    "        \n",
    "        total_losses.append(total_loss)\n",
    "        fg_losses.append(fg_loss)\n",
    "        bg_losses.append(bg_loss)\n",
    "        \n",
    "plt.plot(np.array(total_losses), label=\"Total loss\")\n",
    "plt.plot(np.array(bg_losses), label=\"FG loss\")\n",
    "plt.plot(np.array(fg_losses), label=\"BG loss\")\n",
    "plt.legend()"
   ]
  },
  {
   "cell_type": "code",
   "execution_count": 258,
   "id": "cb3ced0f",
   "metadata": {},
   "outputs": [
    {
     "name": "stderr",
     "output_type": "stream",
     "text": [
      "Testing: 100%|██████████████████████████████████████████████████████████████████████████| 40/40 [00:00<00:00, 55.15it/s]"
     ]
    },
    {
     "name": "stdout",
     "output_type": "stream",
     "text": [
      "FG from FG: 98.22, BG from BG: 97.42, FG from BG: 97.94, BG from FG: 98.85\n"
     ]
    },
    {
     "name": "stderr",
     "output_type": "stream",
     "text": [
      "\n"
     ]
    }
   ],
   "source": [
    "fg_fg_top1, bg_bg_top1, fg_bg_top1, bg_fg_top1 = test_disentangled(disentanglement_testing_model, testloader)\n",
    "print(f\"FG from FG: {fg_fg_top1}, BG from BG: {bg_bg_top1}, FG from BG: {fg_bg_top1}, BG from FG: {bg_fg_top1}\")"
   ]
  },
  {
   "cell_type": "code",
   "execution_count": 237,
   "id": "9febae7d",
   "metadata": {},
   "outputs": [
    {
     "data": {
      "text/plain": [
       "<All keys matched successfully>"
      ]
     },
     "execution_count": 237,
     "metadata": {},
     "output_type": "execute_result"
    }
   ],
   "source": [
    "disentangled_model = DisentangledFeatureModel(num_fg_features=16 * 7 * 7 - 50).cuda()\n",
    "disentangled_model.load_state_dict(torch.load(\"/cmlscratch/pkattaki/void/d3s/d3s/logs/train_disentanglement/wasserstein/colored_mnist_disentangled_model.pt\")[\"model\"])"
   ]
  },
  {
   "cell_type": "code",
   "execution_count": null,
   "id": "7c41cd90",
   "metadata": {},
   "outputs": [],
   "source": []
  }
 ],
 "metadata": {
  "kernelspec": {
   "display_name": "Python 3 (ipykernel)",
   "language": "python",
   "name": "python3"
  },
  "language_info": {
   "codemirror_mode": {
    "name": "ipython",
    "version": 3
   },
   "file_extension": ".py",
   "mimetype": "text/x-python",
   "name": "python",
   "nbconvert_exporter": "python",
   "pygments_lexer": "ipython3",
   "version": "3.8.5"
  }
 },
 "nbformat": 4,
 "nbformat_minor": 5
}
